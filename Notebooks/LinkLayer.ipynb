{
 "worksheets": [
  {
   "cells": [
    {
     "cell_type": "markdown",
     "metadata": {},
     "source": [
      "# Link Layer\n",
      "\n",
      "<img src=\"http://farm4.staticflickr.com/3477/3220641628_5aa4cab568_z.jpg\">\n",
      "<img src=\"https://farm9.staticflickr.com/8102/8631467495_0f603b087c_n.jpg\" width=\"320\" height=\"240\" alt=\"IMG_0355\">\n",
      "\n",
      "http://upload.wikimedia.org/wikipedia/commons/3/3f/Xerox_PARC_ethernet_cable.jpg\n",
      "\n",
      "## Error Correction and Detection\n",
      "\n",
      "### Parity\n",
      "\n",
      "* even versus odd parity\n",
      "* 1D parity\n",
      "* 2D parity\n",
      "* Good at detecting single bit errors\n",
      "* 2D allows you to correct single bit errors\n",
      "* BUT -- In reality, errors on the network come in bursts.\n",
      "\n",
      "\n"
     ]
    },
    {
     "cell_type": "code",
     "metadata": {},
     "outputs": [
      {
       "output_type": "pyout",
       "prompt_number": 10,
       "text": [
        "0"
       ],
       "metadata": {}
      }
     ],
     "input": [
      "from functools import reduce\n",
      "from operator import xor\n",
      "l = bin(0x04C11DB7)\n",
      "reduce(xor,map(int,l[2:]))\n",
      "\n",
      "#reduce(xor, [1,0])"
     ],
     "language": "python",
     "prompt_number": 10
    },
    {
     "cell_type": "markdown",
     "metadata": {},
     "source": [
      "### Checksums\n",
      "\n",
      "* We've covered this already for UDP and TCP and IP\n",
      "* TCP and UDP calculate a checksum over the whole segment/datagram\n",
      "* IP simply computes a checksum over its header information.\n",
      "\n",
      "### CRC Codes\n",
      "\n",
      "* Cyclic Redundancy Check or Polynomial Codes\n",
      "\n",
      "* Generators  G (Defined by the standard)\n",
      "    * 1 bit 1  --- parity\n",
      "    * 8 bit 0xD5 -- 11010101\n",
      "    * 32 bit standard for ethernet  0x04C11DB7\n",
      "    * can detect burst errors fewer than r+1 bits!\n",
      "    "
     ]
    },
    {
     "cell_type": "code",
     "metadata": {},
     "outputs": [
      {
       "output_type": "pyout",
       "prompt_number": 1,
       "text": [
        "'0b11010101'"
       ],
       "metadata": {}
      }
     ],
     "input": [
      "bin(0xD5)"
     ],
     "language": "python",
     "prompt_number": 1
    },
    {
     "cell_type": "code",
     "metadata": {},
     "outputs": [
      {
       "output_type": "pyout",
       "prompt_number": 1,
       "text": [
        "'0b100110000010001110110110111'"
       ],
       "metadata": {}
      }
     ],
     "input": [
      "bin(0x04C11DB7)"
     ],
     "language": "python",
     "prompt_number": 1
    },
    {
     "cell_type": "code",
     "metadata": {},
     "outputs": [
      {
       "output_type": "pyout",
       "prompt_number": 25,
       "text": [
        "11968"
       ],
       "metadata": {}
      }
     ],
     "input": [
      "d = ord('d')\n",
      "o = ord('o')\n",
      "g = ord('g')\n",
      "\n",
      "D = (d * 2**16) + (o * 2** 8) + g\n",
      "D = D * 2**5"
     ],
     "language": "python",
     "prompt_number": 25
    },
    {
     "cell_type": "markdown",
     "metadata": {},
     "source": [
      "#### How are CRC Codes computed?\n",
      "\n",
      "* given a G we want to calculate an r bit value R such that $D \\cdot 2^r$ XOR R is evenly divisible by G.\n",
      "* Division is done in modulo-2 arithmetic no carries in addition or borrows in subtraction.\n",
      "* In this case addition and subtraction are the same as the XOR operation\n",
      "* To make a long story short R = $D \\cdot 2^r$ % G\n",
      "    * $D \\cdot 2^r$ is the same as shifting D to the left r places.\n"
     ]
    },
    {
     "cell_type": "markdown",
     "metadata": {},
     "source": [
      "## Multiple Access Links\n",
      "\n",
      "* Shared Access - broadcast\n",
      "* Ethernet\n",
      "* CSMA\n",
      "* DOCSIS -- Cable Network\n",
      "* Cell Network (CDMA)\n",
      "* WiFi (802.x)\n",
      "* Aloha\n",
      "\n",
      "### General Principles\n",
      "* Maximize throughput when only one sender wants to send\n",
      "* Maximize fairness when lots of senders want to send\n",
      "* The protocol should be decentralized\n",
      "* KISS\n",
      "\n",
      "### Channel Partitioning\n",
      "* TDM\n",
      "* FDM\n",
      "* CDMA (More on this in the Wireless chapter)\n",
      "\n",
      "### Aloha is one of the first, and was invented for wireless access in .... Hawaii\n",
      "\n",
      "* Slotted Aloha is easy to understand\n",
      "* The system has time slots  (requires some kind of master)\n",
      "* Individual senders are all synchronized so they know the beginning of a slot\n",
      "* When you get fresh data to send, wait until the next time slot and then send it.\n",
      "* if a collission is detected then will resend with probability $p$ in next slot.\n",
      "\n",
      "\n",
      "### Slotted Aloha Efficiency\n",
      "* GOOD:  when only one sender, they get the full bandwidth\n",
      "* BAD:  collisions cause wasted slots\n",
      "* BAD:  empty slots due to probability are wasted slots\n",
      "\n",
      "We can model the efficiency of slotted aloha easily by simplifying one assumption.  Assume that all nodes always have data to transmit, and that they will transmit in a given frame with probability $p$\n",
      "\n",
      "* Can do an experiment with groups of 6 or less\n",
      "* roll a die -- if it comes up 1 you get to speak  (.16% chance)\n",
      "* repeat for everyone in the group.  Try this for several rounds.\n",
      "* how often do you get to speak?\n",
      "* try it for 2 or less\n",
      "\n",
      "The probability that a node will transmit is $p$  The probability that a node will not transmit is $(1-p)$  If there are N nodes the probability that all but one will not transmit is $(1-p)^{N-1}$  So the probability that a particular node node will have success is $p \\cdot (1-p)^{N-1}$  The probability that any one of the N nodes has success is $N \\cdot p \\cdot (1-p)^{N-1}$.   To obtain maximum efficiency would require calculus.  Since we have ipython we'll just graph it.  (in the limit as N gets large 1/e)\n",
      "\n",
      "We can do this easily with an ``arange``.\n"
     ]
    },
    {
     "cell_type": "code",
     "metadata": {},
     "outputs": [
      {
       "output_type": "stream",
       "stream": "Populating the interactive namespace from numpy and matplotlib\n",
       "text": [
        "Populating the interactive namespace from numpy and matplotlib\n"
       ]
      },
      {
       "output_type": "stream",
       "stream": "WARNING: pylab import has clobbered these variables: ['random']\n`%matplotlib` prevents importing * from pylab and numpy\n",
       "text": [
        "WARNING: pylab import has clobbered these variables: ['random']\n`%matplotlib` prevents importing * from pylab and numpy\n"
       ]
      },
      {
       "output_type": "pyout",
       "text": [
        "<Container object of 100 artists>"
       ],
       "metadata": {}
      },
      {
       "output_type": "display_data",
       "png": "[encoded data removed]",
       "text": [
        "<matplotlib.figure.Figure at 0x106a80c88>"
       ],
       "metadata": {}
      }
     ],
     "input": [
      "%pylab inline\n",
      "import random\n",
      "numSenders = 24\n",
      "pToSend = 0.0\n",
      "numTrials = 1\n",
      "numSlots = 1000000\n",
      "increment = 0.01\n",
      "\n",
      "x = []\n",
      "y = []\n",
      "while pToSend <= 1.0:\n",
      "    for i in range(numTrials):\n",
      "        success = 0\n",
      "        fail = 0\n",
      "        for slot in range(numSlots):\n",
      "            senders = []\n",
      "            for s in range(numSenders):\n",
      "                if random.random() <= pToSend:\n",
      "                    senders.append(s)\n",
      "            if len(senders) == 1:\n",
      "                success += 1\n",
      "            else:\n",
      "                fail += 1\n",
      "        #print(\"used slots = \", success, success/numSlots)\n",
      "        #print(\"failed slots = \", fail, fail/numSlots)\n",
      "        x.append(pToSend)\n",
      "        y.append(success/numSlots)\n",
      "    pToSend += increment\n",
      "    \n",
      "bar(x,y,width=increment)    "
     ],
     "language": "python",
     "prompt_number": 7
    },
    {
     "cell_type": "code",
     "metadata": {},
     "outputs": [
      {
       "ename": "NameError",
       "evalue": "name 'numpy' is not defined",
       "output_type": "pyerr",
       "traceback": [
        "\u001b[0;31m---------------------------------------------------------------------------\u001b[0m\n\u001b[0;31mNameError\u001b[0m                                 Traceback (most recent call last)",
        "\u001b[0;32m<ipython-input-3-f7cddeeedd1a>\u001b[0m in \u001b[0;36m<module>\u001b[0;34m()\u001b[0m\n\u001b[0;32m----> 1\u001b[0;31m \u001b[0mx\u001b[0m \u001b[0;34m=\u001b[0m \u001b[0mnumpy\u001b[0m\u001b[0;34m.\u001b[0m\u001b[0marange\u001b[0m\u001b[0;34m(\u001b[0m\u001b[0;36m0.0\u001b[0m\u001b[0;34m,\u001b[0m\u001b[0;36m1.0\u001b[0m\u001b[0;34m,\u001b[0m\u001b[0;36m0.1\u001b[0m\u001b[0;34m)\u001b[0m\u001b[0;34m\u001b[0m\u001b[0m\n\u001b[0m\u001b[1;32m      2\u001b[0m \u001b[0mx\u001b[0m \u001b[0;34m*\u001b[0m \u001b[0;36m10\u001b[0m \u001b[0;34m-\u001b[0m \u001b[0mx\u001b[0m\u001b[0;34m\u001b[0m\u001b[0m\n",
        "\u001b[0;31mNameError\u001b[0m: name 'numpy' is not defined"
       ]
      }
     ],
     "input": [
      "x = numpy.arange(0.0,1.0,0.1)\n",
      "x * 10 - x"
     ],
     "language": "python",
     "prompt_number": 3
    },
    {
     "cell_type": "code",
     "metadata": {},
     "outputs": [
      {
       "output_type": "display_data",
       "png": "[encoded data removed]",
       "metadata": {}
      }
     ],
     "input": [
      "# demonstrates the use of numpy vectors  scalar multiples,additions, etc apply to all\n",
      "# elements of the array.  Computes Aloha efficiency -- very cool\n",
      "def eff(p,N):\n",
      "    return N*p*(1-p)**(N-1)\n",
      "\n",
      "x = numpy.arange(0.0,1.0,0.01)   # like range, but can do floats!\n",
      "S = eff(x,100)               \n",
      "p1=plot(x,S,label=\"100\")\n",
      "T = eff(x,50)\n",
      "p2=plot(x,T,label=\"50\")\n",
      "U = eff(x,10)\n",
      "p3=plot(x,U,label=\"10\")\n",
      "p3=plot(x,eff(x,5),label=\"5\")\n",
      "p3=plot(x,eff(x,2),label=\"2\")\n",
      "legend()\n",
      "show()"
     ],
     "language": "python",
     "prompt_number": 27
    },
    {
     "cell_type": "markdown",
     "metadata": {},
     "source": [
      "### Question:  What is the probability on a LAN that N number of students will have data to transmit simultaneously?\n",
      "\n",
      "In regular Aloha we do away with the time slots.  This has the advantage that we don't need a centralized time slot controller.\n",
      "\n",
      "Suppose that the probability is p that a node is going to transmit in some small time interval suppose they start at $t_0$.\n",
      "Now if another node begins transmission in the interval $[t_0-1,t_0]$ there will be a collision due to overlap.  The probability that all other nodes do not transmit is again $(1-p)^{N-1}$  ALSO if any other node decides to transmit in the same interval there will be a collision.  Again the probablity that all other nodes do not transmit is $(1-p)^{N-1}$  Thus the probability that any given node can transmit is $Np \\cdot (1-p)^{2(N-1)}$"
     ]
    },
    {
     "cell_type": "code",
     "metadata": {},
     "outputs": [
      {
       "output_type": "stream",
       "stream": "Populating the interactive namespace from numpy and matplotlib\n",
       "text": [
        "Populating the interactive namespace from numpy and matplotlib\n"
       ]
      },
      {
       "output_type": "display_data",
       "png": "[encoded data removed]",
       "text": [
        "<matplotlib.figure.Figure at 0x105390908>"
       ],
       "metadata": {}
      }
     ],
     "input": [
      "import numpy\n",
      "%pylab inline\n",
      "def eff(p,N):\n",
      "    return N*p*(1-p)**(2*(N-1))\n",
      "\n",
      "x = numpy.arange(0.0,1.0,0.01)   # like range, but can do floats!\n",
      "S = eff(x,100)               \n",
      "p1=plot(x,S,label=\"100\")\n",
      "T = eff(x,50)\n",
      "p2=plot(x,T,label=\"50\")\n",
      "U = eff(x,10)\n",
      "p3=plot(x,U,label=\"10\")\n",
      "p3=plot(x,eff(x,5),label=\"5\")\n",
      "p3=plot(x,eff(x,2),label=\"2\")\n",
      "legend()\n",
      "show()"
     ],
     "language": "python",
     "prompt_number": 2
    },
    {
     "cell_type": "markdown",
     "metadata": {},
     "source": [
      "### Didn't your mother tell you to listen before you talk?\n",
      "\n",
      "* We can improve on Aloha by first checking the channel to see if anyone else is using it.\n",
      "* CSMA - Carrier Sense Multiple Access\n",
      "* So does listening before you speak solve everything?\n",
      "\n",
      "<img src=\"http://knuth.luther.edu/~millbr02/Networks/csma1.gif\" width=\"400\" height=\"400\">\n",
      "\n"
     ]
    },
    {
     "cell_type": "markdown",
     "metadata": {},
     "source": [
      "We can do even better if the network interfaces can detect collisions and then stop transmitting.\n",
      "\n",
      "<img src=\"http://knuth.luther.edu/~millbr02/Networks/csma3.gif\" height=\"400\" width=\"400\" >"
     ]
    },
    {
     "cell_type": "markdown",
     "metadata": {},
     "source": [
      "### Question:  What kind of timeframes are we talking about?\n",
      "\n",
      "* Lets roll back time just 10 years and assume we are using a CSMA network in the lab.\n",
      "* Lets suppose that B and D are 10 meters apart\n",
      "* How long is propagation delay at 2.5e8 meters\n",
      "* How long to transmit a 1500 byte packet at 10Mbps\n",
      "* probability that two users want to use the network at the same time?\n"
     ]
    },
    {
     "cell_type": "code",
     "metadata": {},
     "outputs": [],
     "input": [
      ""
     ],
     "language": "python",
     "prompt_number": 26
    },
    {
     "cell_type": "markdown",
     "metadata": {},
     "source": [
      "### Wait, so is this fair?  Couldn't one sender dominate if it started sending and never stopped?\n",
      "### OK, so you've detected a collision, now what?\n",
      "\n",
      "**Summary of CSMA/CD**\n",
      "\n",
      "1. The adapter obtains a datagram from the Network layer and prepares it for transmission\n",
      "2. The adapter sense the channel.  If it is idle then go ahead and start transmission.  If it is busy, then wait until the channel is idle and then start transmitting.\n",
      "3. while transmitting, monitor the channel for interference -- colission!!\n",
      "4. If the entire frame is transmitted safely then done.  If a collision is detected, then stop transmitting immediately.\n",
      "5. If a collision was detected wait a **random** amount of time and then return to step 2.\n",
      "\n",
      "#### Why is randomness important?\n",
      "#### How long should the interval be?\n",
      "\n",
      "* short when the number of collisions is small\n",
      "* large when the number of collisions is large\n",
      "* This leads to an algorithms known as **exponential back off**  (Used in Ethernet and DOCSIS)\n",
      "* We will wait K * t amount of time where t is the time it takes to send 512 bits.\n",
      "* How do we select K?\n",
      "* After first collision we select K from the set {0,1} where each choice is equally probable.\n",
      "* After second collision we select K from the set {0, 1, 2, 3}\n",
      "* After third collision we select K from the set {0, 1, 2, 3, 4, 5, 6, 7}\n",
      "* After n collisions we select K from the set {0, 1, 2, ... $2^n$-1}\n",
      "\n",
      "### Efficiency of CSMA?\n",
      "\n",
      "$E = \\frac{1}{1 + 5d_{prop}/d_{trans}}$\n",
      "\n",
      "Calculate a couple of examples:\n"
     ]
    },
    {
     "cell_type": "code",
     "metadata": {},
     "outputs": [
      {
       "output_type": "stream",
       "stream": "Populating the interactive namespace from numpy and matplotlib\n",
       "text": [
        "Populating the interactive namespace from numpy and matplotlib\n"
       ]
      },
      {
       "output_type": "display_data",
       "png": "[encoded data removed]",
       "text": [
        "<matplotlib.figure.Figure at 0x1064673c8>"
       ],
       "metadata": {}
      }
     ],
     "input": [
      "%pylab inline\n",
      "def eff(dist,speed):\n",
      "    return 1.0 / (1.0 + 5.0 * (dist/2.5e8)/(1500*8/speed))\n",
      "\n",
      "distr = arange(3.0,100.0,1.0)\n",
      "S = eff(distr,1e6)\n",
      "p1=plot(distr,S,label=\"10\")\n",
      "p2 = plot(distr,eff(distr,100e6),label=\"100\")\n",
      "p3 = plot(distr,eff(distr,1000e6),label=\"1000\")\n",
      "p3 = plot(distr,eff(distr,10000e6),label=\"1000\")\n",
      "\n",
      "legend()\n",
      "show()"
     ],
     "language": "python",
     "prompt_number": 1
    },
    {
     "cell_type": "markdown",
     "metadata": {},
     "source": [
      "What does this mean??\n",
      "\n",
      "As transmissions speeds get super fast, and distances get farther apart there is a lower chance of detecting a transmission is in progress before you start.  \n"
     ]
    },
    {
     "cell_type": "code",
     "metadata": {},
     "outputs": [
      {
       "output_type": "stream",
       "stream": "1.2e-08 0.00012\n2.12e-07 0.00012\n4.12e-07 0.00012\n6.12e-07 0.00012\n8.12e-07 0.00012\n1.012e-06 0.00012\n1.212e-06 0.00012\n1.412e-06 0.00012\n1.612e-06 0.00012\n1.812e-06 0.00012\n2.012e-06 0.00012\n2.212e-06 0.00012\n2.412e-06 0.00012\n2.612e-06 0.00012\n2.812e-06 0.00012\n3.012e-06 0.00012\n3.212e-06 0.00012\n3.412e-06 0.00012\n3.612e-06 0.00012\n3.812e-06 0.00012\n",
       "text": [
        "1.2e-08 0.00012\n2.12e-07 0.00012\n4.12e-07 0.00012\n6.12e-07 0.00012\n8.12e-07 0.00012\n1.012e-06 0.00012\n1.212e-06 0.00012\n1.412e-06 0.00012\n1.612e-06 0.00012\n1.812e-06 0.00012\n2.012e-06 0.00012\n2.212e-06 0.00012\n2.412e-06 0.00012\n2.612e-06 0.00012\n2.812e-06 0.00012\n3.012e-06 0.00012\n3.212e-06 0.00012\n3.412e-06 0.00012\n3.612e-06 0.00012\n3.812e-06 0.00012\n"
       ]
      }
     ],
     "input": [
      "for i in arange(3.0,1000.0,50.0):\n",
      "    print(i/2.5e8, 1500*8/100e6)"
     ],
     "language": "python",
     "prompt_number": 4
    },
    {
     "cell_type": "markdown",
     "metadata": {},
     "source": [
      "Does this suggest any kind of limit?"
     ]
    },
    {
     "cell_type": "markdown",
     "metadata": {},
     "source": [
      "### A Brief Overview of DOCSIS\n",
      "* The cable is divided into two frequencies:  downstream and upstream\n",
      "* Downstream is a broadcast medium, everybody gets everything!\n",
      "* the upstream channel is also shared but it is divided into slots.\n",
      "* slots are allocated to the nodes that have data to transmit\n",
      "* nodes request a transmit slot during a special request slot that comes every so often."
     ]
    },
    {
     "cell_type": "markdown",
     "metadata": {},
     "source": [
      "### The ARP Protocol\n",
      "* the link layer uses (Media Access Control) MAC addresses.\n",
      "* six octets\n",
      "* unique to the hardware\n",
      "* need to translate IP address to MAC address at the link layer\n",
      "* How?\n",
      "\n",
      "* You be the designer.  How would you design a protocol to allow IP to MAC translation\n",
      "\n",
      "### Modern Ethernet -- Using a Switch\n",
      "\n",
      "* In the beginning there were hubs... Hubs were dumb\n",
      "* When routing equipment got faster and faster, and hardware to do forwarding got cheper, swtiches were born\n",
      "* switches are good, switches are smart, switches avoid collisions.\n",
      "* How?\n",
      "\n"
     ]
    },
    {
     "cell_type": "code",
     "metadata": {},
     "outputs": [
      {
       "latex": [
        "$$\\left [ \\frac{1}{199}, \\quad 1\\right ]$$"
       ],
       "text": [
        "[1/199, 1]"
       ],
       "metadata": {}
      }
     ],
     "input": [
      "from sympy import *\n",
      "p = symbols('p')\n",
      "n=100\n",
      "init_printing(use_unicode=True)\n",
      "solve(diff(n*p*(1-p)**(2*(n-1)),p))"
     ],
     "language": "python",
     "prompt_number": 16
    },
    {
     "cell_type": "code",
     "metadata": {},
     "outputs": [],
     "input": [
      ""
     ],
     "language": "python"
    },
    {
     "cell_type": "code",
     "metadata": {},
     "outputs": [
      {
       "latex": [
        "$$0.18532988926628383$$"
       ],
       "text": [
        "0.18532988926628383"
       ],
       "metadata": {}
      }
     ],
     "input": [
      "p = 1.0/199.0\n",
      "n = 100\n",
      "n*p*((1-p)**(2*(n-1)))"
     ],
     "language": "python",
     "prompt_number": 17
    },
    {
     "cell_type": "code",
     "metadata": {},
     "outputs": [
      {
       "output_type": "pyout",
       "text": [
        "[1/1000, 1]"
       ],
       "metadata": {}
      }
     ],
     "input": [
      "from sympy import *\n",
      "p = symbols('p')\n",
      "n=1000\n",
      "solve(diff(n*p*(1-p)**(n-1)))"
     ],
     "language": "python",
     "prompt_number": 13
    },
    {
     "cell_type": "code",
     "metadata": {},
     "outputs": [
      {
       "output_type": "pyout",
       "text": [
        "0.3680634882592229"
       ],
       "metadata": {}
      }
     ],
     "input": [
      "n=1000\n",
      "p=1/1000.0\n",
      "n*p*(1-p)**(n-1)"
     ],
     "language": "python",
     "prompt_number": 14
    }
   ]
  }
 ],
 "cells": [],
 "metadata": {
  "name": "",
  "signature": "sha256:0e58cc80f679740ed65af994fc2c917c5190ed5c0a4e8b6f98bf879e8be8a366"
 },
 "nbformat": 3,
 "nbformat_minor": 0
}