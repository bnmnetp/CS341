{
 "worksheets": [
  {
   "cells": [
    {
     "cell_type": "markdown",
     "metadata": {},
     "source": [
      "# Wireless Networking\n",
      "\n",
      "### Challenges\n",
      "\n",
      "* Signal Strength\n",
      "* Interference from other sources\n",
      "* Bouncing off the walls interference\n",
      "* Moving around campus/town\n",
      "\n",
      "\n",
      "### Key Topics\n",
      "\n",
      "* CDMA\n",
      "* 802.11 Wireless Protocols\n",
      "* Cellular Internet Access\n",
      "* Mobile IP\n",
      "\n"
     ]
    },
    {
     "cell_type": "markdown",
     "metadata": {},
     "source": [
      "## CDMA\n",
      "\n",
      "* Used by Many US Carriers\n",
      "\n",
      "    * Verizon\n",
      "    * U.S. Cellular\n",
      "    * Sprint\n",
      "    * and others.\n",
      "\n",
      "* CDMA uses chipping codes to uniquely encode the signal from one phone.\n",
      "\n",
      "    * Chipping codes exploit vector orthognonality!  Yay Linear Algebra!\n",
      "    * code1 = (1,1,1,-1,1,-1,-1,-1)\n",
      "    * code2 = (1,-1,1,1,1,-1,1,1)\n",
      "    * The dot product of code1 and code2 is 0, they are orthogonal.\n",
      "    * When CDMA sends a bit it subdivides the bit into mini-bits or chips.\n"
     ]
    },
    {
     "cell_type": "code",
     "metadata": {},
     "outputs": [
      {
       "output_type": "pyout",
       "prompt_number": 64,
       "text": [
        "0"
       ],
       "metadata": {}
      }
     ],
     "input": [
      "import random\n",
      "code1 = array( (1,1,1,-1,1,-1,-1,-1) )\n",
      "code2 = array( (1,-1,1,1,1,-1,1,1))\n",
      "\n",
      "vdot(code1,code2)"
     ],
     "language": "python",
     "prompt_number": 64
    },
    {
     "cell_type": "markdown",
     "metadata": {},
     "source": [
      "In practice the codes are much larger.\n",
      "\n",
      "* Represent a 0 with -1 and a 1 with 1\n",
      "* We can compute the code that is sent by taking the bit value (-1 or 1) and multiplying our code vector by the scalar."
     ]
    },
    {
     "cell_type": "code",
     "metadata": {},
     "outputs": [
      {
       "output_type": "stream",
       "stream": "stdout",
       "text": [
        "[-1 -1 -1  1 -1  1  1  1]\n",
        "[ 1  1  1 -1  1 -1 -1 -1]\n"
       ]
      },
      {
       "output_type": "pyout",
       "prompt_number": 51,
       "text": [
        "<Container object of 8 artists>"
       ],
       "metadata": {}
      },
      {
       "output_type": "display_data",
       "png": "[encoded data removed]",
       "metadata": {}
      }
     ],
     "input": [
      "bit1 = -1 * code1\n",
      "bit2 = 1 * code1\n",
      "print bit1\n",
      "print bit2\n",
      "bar(range(8),bit1)"
     ],
     "language": "python",
     "prompt_number": 51
    },
    {
     "cell_type": "markdown",
     "metadata": {},
     "source": [
      "Now, on the receivers end, we take the incoming chipping vector, and do the dot product with the code and divide by the length of the vector."
     ]
    },
    {
     "cell_type": "code",
     "metadata": {},
     "outputs": [
      {
       "output_type": "stream",
       "stream": "stdout",
       "text": [
        "-1\n",
        "1\n"
       ]
      }
     ],
     "input": [
      "print vdot(bit1,code1)/8\n",
      "print vdot(bit2,code1)/8"
     ],
     "language": "python",
     "prompt_number": 52
    },
    {
     "cell_type": "markdown",
     "metadata": {},
     "source": [
      "TADA!!  We have our bits back.\n",
      "What happens if one or two of the chips get messed up?\n"
     ]
    },
    {
     "cell_type": "code",
     "metadata": {},
     "outputs": [
      {
       "output_type": "stream",
       "stream": "stdout",
       "text": [
        "[-1 -1 -1  1 -1  1  1  1]\n",
        "flipping  0\n",
        "[ 1 -1 -1  1 -1  1  1  1]\n",
        "-0.75\n"
       ]
      }
     ],
     "input": [
      "flip = random.randrange(8)\n",
      "print bit1\n",
      "print 'flipping ', flip\n",
      "bit1[flip] *= -1\n",
      "print bit1\n",
      "print vdot(bit1,code1)/8.0"
     ],
     "language": "python",
     "prompt_number": 53
    },
    {
     "cell_type": "markdown",
     "metadata": {},
     "source": [
      "Alright, how does this help in multiplexing multiple signals??\n",
      "\n",
      "* Through the magic of orthogonality\n",
      "* We can add multiple signals together and still recover them using our original plan!"
     ]
    },
    {
     "cell_type": "code",
     "metadata": {},
     "outputs": [
      {
       "output_type": "stream",
       "stream": "stdout",
       "text": [
        "[ 0 -2  0  2  0  0  2  2]\n",
        "[ 0  2  0 -2  0  0 -2 -2]\n"
       ]
      },
      {
       "output_type": "pyout",
       "prompt_number": 54,
       "text": [
        "<Container object of 8 artists>"
       ],
       "metadata": {}
      },
      {
       "output_type": "display_data",
       "png": "[encoded data removed]",
       "metadata": {}
      }
     ],
     "input": [
      "s1b1 = -1 * code1\n",
      "s1b2 = 1 * code1\n",
      "s2b1 = 1 * code2\n",
      "s2b2 = -1 * code2\n",
      "\n",
      "bit1 = s1b1 + s2b1\n",
      "bit2 = s1b2 + s2b2\n",
      "print bit1\n",
      "print bit2\n",
      "bar(range(8),bit1)"
     ],
     "language": "python",
     "prompt_number": 54
    },
    {
     "cell_type": "code",
     "metadata": {},
     "outputs": [
      {
       "output_type": "stream",
       "stream": "stdout",
       "text": [
        "-1\n",
        "1\n"
       ]
      }
     ],
     "input": [
      "print vdot(bit1,code1)/8\n",
      "print vdot(bit1,code2)/8"
     ],
     "language": "python",
     "prompt_number": 55
    },
    {
     "cell_type": "markdown",
     "metadata": {},
     "source": [
      "### Now its your turn.\n",
      "\n",
      "* Groups of 2\n",
      "* Use the following codes 3 and 4 as shown below\n",
      "* Choose a sequence of 3 bits\n",
      "* Encode the 3 bits using your code\n",
      "* Add your encoded bits to your partners encoded bits to come up with the transmitted signal\n",
      "* Now swtich codes and decode the message\n",
      "* does your message match your partners original message??\n",
      "* Now Get with another group and add use all four of our original codes\n",
      "* Once again exchange codes and check to see if your decoded message matches the original"
     ]
    },
    {
     "cell_type": "code",
     "metadata": {},
     "outputs": [
      {
       "output_type": "pyout",
       "prompt_number": 65,
       "text": [
        "0"
       ],
       "metadata": {}
      }
     ],
     "input": [
      "code3 = array((1,-1,-1,-1,1,1,1,-1))\n",
      "code4 =array((-1,1,1,1,1,1,1,-1))\n",
      "vdot(code3,code4)"
     ],
     "language": "python",
     "prompt_number": 65
    },
    {
     "cell_type": "code",
     "metadata": {},
     "outputs": [
      {
       "output_type": "stream",
       "stream": "stdout",
       "text": [
        "-1.0\n",
        "-1.0\n",
        "1.0\n",
        "-1.0\n"
       ]
      },
      {
       "output_type": "display_data",
       "png": "[encoded data removed]",
       "metadata": {}
      }
     ],
     "input": [
      "bit11 = -1 * code1\n",
      "bit12 = -1 * code2\n",
      "bit13 = 1 * code3\n",
      "bit14 = -1 * code4\n",
      "signal = bit11+bit12+bit13+bit14\n",
      "bar(range(8),signal)\n",
      "print vdot(signal,code1)/8.0\n",
      "print vdot(signal,code2)/8.0\n",
      "print vdot(signal,code3)/8.0\n",
      "print vdot(signal,code4)/8.0"
     ],
     "language": "python",
     "prompt_number": 68
    },
    {
     "cell_type": "markdown",
     "metadata": {},
     "source": [
      "It looks like the efficiency of CDMA can approach .8 under the right conditions.\n",
      "\n",
      "\n",
      "## 802.11"
     ]
    },
    {
     "cell_type": "markdown",
     "metadata": {},
     "source": [
      "* Ad-hoc versus infrastructure\n",
      "\n",
      "* Joining a Wireless Network\n",
      "    * Beacon Frames\n",
      "    * Association Request\n",
      "    * Association Response\n",
      "\n",
      "* 802.11 MAC Protocol  -- CSMA / CA\n",
      "    * Cannot use CSMA/CD -- hidden terminal problem\n",
      "    * We need to use ACKS!\n",
      "    * Collision Avoidance!!\n",
      "\n",
      "1. If the channel is idle for DIFS, then transmit the frame immediately.\n",
      "2. Otherwise choose a random backoff value - exponential backoff and count down this value, but only when the channel is idle.  If the channel is busy then the counter is frozen\n",
      "3. When the counter reaches 0 transmit the frame and wait for an acknowledgement.  (Hmmm, sounds like stop-n-wait)\n",
      "4. If an ACK is received then success!\n",
      "5. If there is another frame to send then start at step 2\n",
      "6. If no ACK is recevied then go back to step 2\n",
      "\n",
      "BUT -- No guarantees that this will avoid collisions.\n",
      "\n",
      "So, we try to minimize the chance of a collision when we have a lot of data to send by using\n",
      "RTS / CTS  -- This lets you reserve the channel for a period of time.\n",
      "\n",
      "When a CTS is heard for another sender you must wait until you see the ACK for that data.  - this fixes the hidden terminal problem by relying on the AP to send out the CTS.\n",
      "\n"
     ]
    },
    {
     "cell_type": "markdown",
     "metadata": {},
     "source": [
      "### What is Best case for efficiency?\n",
      "\n",
      "$\\frac{\\frac{X}{11\\times10^6}}{\\frac{X}{11\\times10^6}+789\\times 10^{-6}}$\n",
      "\n",
      "Where the 789 microseconds is the overhead for SIFS etc.\n",
      "\n",
      "For \n",
      "\n",
      "* x = 1000 bytes 48%\n",
      "* x = 1500 bytes 58%\n",
      "* x = 2312 bytes 68%\n",
      "\n",
      "BUT -- This is for a single sender with NO collisions or interferece.  Typical efficiency is around 30%\n"
     ]
    },
    {
     "cell_type": "code",
     "metadata": {},
     "outputs": [],
     "input": [
      ""
     ],
     "language": "python"
    }
   ]
  }
 ],
 "cells": [],
 "metadata": {
  "name": "",
  "signature": "sha256:4c75f451ecdff3a7a32d365b34b3c2cd12ca6462db874741bf5e4116288ace53"
 },
 "nbformat": 3,
 "nbformat_minor": 0
}