{
 "metadata": {
  "name": "",
  "signature": "sha256:b07157dff95f5ee881b3c2507594b77ff999571a9977ab9d37f5b3e88405d3fa"
 },
 "nbformat": 3,
 "nbformat_minor": 0,
 "worksheets": [
  {
   "cells": [
    {
     "cell_type": "markdown",
     "metadata": {},
     "source": [
      "## Delay and the HTTP "
     ]
    },
    {
     "cell_type": "markdown",
     "metadata": {},
     "source": [
      "\n",
      "* Calculate the time it takes to download a page.  NYTimes home page\n",
      "    * Recall that total delay is:  $d_{proc} + d_{queue} + d_{trans} + d_{prop}$\n",
      "        * Lets ignore $d_{proc}$ and $d_{queue}$\n",
      "    * What are all of the components of a page that we need to keep in mind:\n",
      "        * How many images?   47 images  each ~50k\n",
      "        * javascript files  10 javascript @ 93k each\n",
      "        * css files 10 css files @ 20k each\n",
      "        * initial page is 173k\n",
      "    * What other factors are important?\n",
      "        * assuming terrestrial link at 8Mbps\n",
      "        * propagation delay of 5000km at 2.4e8 m/s\n",
      "        * assuming that the connection is closed after each request\n",
      "    * Use this notebook to compute the total delay for the page to be loaded."
     ]
    },
    {
     "cell_type": "code",
     "collapsed": false,
     "input": [],
     "language": "python",
     "metadata": {},
     "outputs": [],
     "prompt_number": 0
    },
    {
     "cell_type": "markdown",
     "metadata": {},
     "source": [
      "* Redo the calculation for this page, but assume that the connection is through a satellite link.\n",
      "    * Distance to satellite is 35786e3 meters\n",
      "        \n",
      "Now, there are many ways that the process can be speeded up.  Not having to reopen a connection for every request is certainly one of them.\n",
      "\n",
      "* Redo the calculations assuming that we can keep the connection open.\n",
      "* How might we really speed up the process?\n",
      "    * use a local cache\n",
      "    * redo the calculations"
     ]
    },
    {
     "cell_type": "code",
     "collapsed": false,
     "input": [],
     "language": "python",
     "metadata": {},
     "outputs": []
    }
   ],
   "metadata": {}
  }
 ]
}