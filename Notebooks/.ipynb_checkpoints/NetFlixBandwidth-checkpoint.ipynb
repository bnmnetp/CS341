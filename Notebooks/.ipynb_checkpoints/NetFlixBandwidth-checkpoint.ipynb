{
 "metadata": {
  "name": "",
  "signature": "sha256:50b41d5cc4d5043dba02adf33304787574dfd9e2854aaa8290f8251eba5ca30d"
 },
 "nbformat": 3,
 "nbformat_minor": 0,
 "worksheets": [
  {
   "cells": [
    {
     "cell_type": "markdown",
     "metadata": {},
     "source": [
      "# Welcome to Computer Networking"
     ]
    },
    {
     "cell_type": "markdown",
     "metadata": {},
     "source": [
      "## Key Ideas for Today\n",
      "\n",
      "* Throughput (Bandwidth)\n",
      "* Latency  (Delay)\n",
      "* Bits and Bytes\n",
      "\n",
      "If you don't work hard to really really get these then lots of things later will not make sense!\n"
     ]
    },
    {
     "cell_type": "markdown",
     "metadata": {},
     "source": [
      "# How much bandwidth does Netflix use each night at Luther?\n",
      "\n",
      "### What is Bandwidth\n",
      "\n",
      "Comes from the analog electronics era.\n",
      "\n",
      "<img src=\"http://ptolemy.eecs.berkeley.edu/eecs20/sidebars/radio/spectrum.gif\" />\n",
      "\n",
      "In the Digital era, it is a measure of throughput.  That is how many bits per second we are pushing through the pipe.\n",
      "\n",
      "If you download 1 million bits in 5 seconds what is your bandwidth?\n",
      "\n",
      "BW = bits/time\n",
      "\n",
      "Depends on what quality you want:\n",
      "\n",
      "* Good 0.3 GB per hour\n",
      "* Better 0.7 GB per hour\n",
      "* Best 1 GB per hour\n",
      "* Best HD 2.3 GB per hour\n",
      "\n",
      "Lets look at the low end case and the high end case. Low first.\n",
      "How do we convert these numbers into bandwidth?  \n",
      "How do we usually measure bandwidth?\n",
      "\n",
      "Lets convert **GigaBytes** (GB) per hour  into **Megabits** (Mb) per second (Mbps)\n",
      "\n",
      "* kilo --  $10^3$\n",
      "* Mega --  $10^6$\n",
      "* Giga -- $10^9$\n",
      "* Tera -- $10^{12}$\n",
      "* Peta -- $10^{15}$\n",
      "\n",
      "**Please** just use these orders of magnitude.  Some people get all out of whack over whether a kilobyte is 1000 bytes or 1024 bytes. In this book, and in this class a kilobyte is 1000 bytes.  If this upsets you, get over it now.  If you do homework and use 1024 your answers will be different than mine and the answer key I got from the authors.  This will make all of your calculations more difficult. According to Wikipedia and other authorities 1024 bytes or $2^{10}$ bytes is really a kibibyte http://en.wikipedia.org/wiki/Kibibyte\n"
     ]
    },
    {
     "cell_type": "code",
     "collapsed": false,
     "input": [
      "bytesPerSecond = 0.3e9 / 60 / 60\n",
      "print bytesPerSecond"
     ],
     "language": "python",
     "metadata": {},
     "outputs": []
    },
    {
     "cell_type": "markdown",
     "metadata": {},
     "source": [
      "Gives us a result of how many bytes per second.  Remember that there are 8 bits in every byte."
     ]
    },
    {
     "cell_type": "code",
     "collapsed": false,
     "input": [
      "bitsPerSecond = bytesPerSecond * 8\n",
      "bitsPerSecond "
     ],
     "language": "python",
     "metadata": {},
     "outputs": []
    },
    {
     "cell_type": "markdown",
     "metadata": {},
     "source": [
      "gives us the number of bits per second\n",
      "\n",
      "---\n",
      "\n",
      "Now do the math for High Def.\n",
      "\n",
      "What is Luther's total bandwidth??\n",
      "\n",
      "How many students does it take watching netflix at Good, and Best HD to use it all up??\n"
     ]
    },
    {
     "cell_type": "markdown",
     "metadata": {},
     "source": [
      "\n",
      "# The World Cup 2014\n",
      "\n",
      "According to FIFA:  \"The 2014 FIFA World Cup\u2122 has set new records for streaming data traffic around the world, as football fans watch matches online in greater numbers than ever before.\"\n",
      "\n",
      "Lets look at the bandwidth used for the U.S. going to one particular game, the round of 16 match between the U.S. and Belgium where 5.3 million people streamed! the game online.\n",
      "\n",
      "How much bandwidth did FIFA/ESPN use during the World Cup?\n",
      "\n",
      "Make some reasonable assumptions, do some googling, and figure out how much bandwidth the World Cup consumed in video streaming?\n"
     ]
    },
    {
     "cell_type": "markdown",
     "metadata": {},
     "source": [
      "Bandwidth Used:\n",
      "\n"
     ]
    },
    {
     "cell_type": "markdown",
     "metadata": {},
     "source": [
      "---\n",
      "\n",
      "## How much bandwidth do you think there is going across the atlantic?\n",
      "\n",
      "\n",
      "![intercontinental bandwidth](http://2-ps.googleusercontent.com/x/www.askstudent.com/farm3.static.flickr.com/2099/500x305x2259841460_f8ae91f4f6.jpg.pagespeed.ic.7gv5SODI56.jpg)\n",
      "\n",
      "[cable map](www.cablemap.info)\n",
      "\n",
      "\n"
     ]
    },
    {
     "cell_type": "code",
     "collapsed": false,
     "input": [],
     "language": "python",
     "metadata": {},
     "outputs": [],
     "prompt_number": 0
    },
    {
     "cell_type": "markdown",
     "metadata": {},
     "source": [
      "# Delay and Loss\n",
      "\n",
      "In addition to bandwidth what are the other factors that may effect the time it takes to transmit information over the internet?\n"
     ]
    },
    {
     "cell_type": "markdown",
     "metadata": {},
     "source": [
      "### Sources of delay\n",
      "\n",
      "* Processing -- How long does it take the router to route?\n",
      "* Queueing -- A busy router might have lots of frames backed up to process; how long does a frame have to wait?\n",
      "* Transmission -- See bandwidth -- how long does it take to send this frame?\n",
      "* propagation -- How long does it take for the electrons to get from point A to B?\n",
      "\n",
      "total delay = $d_{proc} + d_{queue} + d_{trans} + d_{prop}$\n"
     ]
    },
    {
     "cell_type": "code",
     "collapsed": false,
     "input": [
      "decorahToLondon_meters = 6503e3\n",
      "earthToSatellite_meters = 35786e3"
     ],
     "language": "python",
     "metadata": {},
     "outputs": []
    },
    {
     "cell_type": "markdown",
     "metadata": {},
     "source": [
      "delay = distance / speed"
     ]
    },
    {
     "cell_type": "code",
     "collapsed": false,
     "input": [
      "satDelay = 2 * earthToSatellite_meters / 3.0e8\n",
      "print satDelay\n",
      "fiberDelay = decorahToLondon_meters / 2.5e8\n",
      "print fiberDelay"
     ],
     "language": "python",
     "metadata": {},
     "outputs": []
    },
    {
     "cell_type": "markdown",
     "metadata": {},
     "source": [
      "Lets suppose that the fiber optic link is OC-48  which means it has a throughput of $48 \\cdot 51.8$Mbps or 2.448Gbps. From now on we'll refer to throughput as R. The bandwidth delay product is defined as $R \\cdot d_{prop}$  Lets calculate the bandwidth delay product for the fiber link:\n"
     ]
    },
    {
     "cell_type": "code",
     "collapsed": false,
     "input": [
      "Rfiber = 2.448e9\n",
      "print Rfiber * fiberDelay"
     ],
     "language": "python",
     "metadata": {},
     "outputs": []
    },
    {
     "cell_type": "markdown",
     "metadata": {},
     "source": [
      "* What are the units of the bandwidth product?\n",
      "* What does it mean?\n"
     ]
    },
    {
     "cell_type": "code",
     "collapsed": false,
     "input": [
      "decorahToLondon_meters / (Rfiber * fiberDelay)"
     ],
     "language": "python",
     "metadata": {},
     "outputs": []
    },
    {
     "cell_type": "code",
     "collapsed": false,
     "input": [
      "Rsat = 1e9\n",
      "earthToSatellite_meters / (Rsat * satDelay) "
     ],
     "language": "python",
     "metadata": {},
     "outputs": []
    },
    {
     "cell_type": "code",
     "collapsed": false,
     "input": [],
     "language": "python",
     "metadata": {},
     "outputs": []
    }
   ],
   "metadata": {}
  }
 ]
}