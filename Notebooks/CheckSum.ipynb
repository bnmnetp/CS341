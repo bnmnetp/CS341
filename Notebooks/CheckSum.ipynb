{
 "metadata": {
  "name": "",
  "signature": "sha256:15dcb56cedb573a1503e00196907fbebe8f53ca5400c2fc19407f319f3e8cdcb"
 },
 "nbformat": 3,
 "nbformat_minor": 0,
 "worksheets": [
  {
   "cells": [
    {
     "cell_type": "markdown",
     "metadata": {},
     "source": [
      "## Checksumming"
     ]
    },
    {
     "cell_type": "markdown",
     "metadata": {},
     "source": [
      "### Hex to Binary to Decimal\n",
      "\n",
      "<table>\n",
      "<tr><td>bin   </td><td> hex  </td><td> decimal</td></tr>\n",
      "<tr><td>0000  </td><td>   0  </td><td> 0</td></tr>\n",
      "<tr><td>0001  </td><td>   1  </td><td> 1</td></tr>\n",
      "<tr><td>0010  </td><td>   2  </td><td> 2</td></tr>\n",
      "<tr><td>0011  </td><td>   3  </td><td> 3</td></tr>\n",
      "<tr><td>0100  </td><td>   4  </td><td> 4</td></tr>\n",
      "<tr><td>0101  </td><td>   5  </td><td> 5</td></tr>\n",
      "<tr><td>0110  </td><td>   6  </td><td> 6</td></tr>\n",
      "<tr><td>0111  </td><td>   7  </td><td> 7</td></tr>\n",
      "<tr><td>1000  </td><td>   8  </td><td> 8</td></tr>\n",
      "<tr><td>1001  </td><td>   9  </td><td> 9</td></tr>\n",
      "<tr><td>1010  </td><td>   a  </td><td> 10</td></tr>\n",
      "<tr><td>1011  </td><td>   b  </td><td> 11</td></tr>\n",
      "<tr><td>1100  </td><td>   c  </td><td> 12</td></tr>\n",
      "<tr><td>1101  </td><td>   d  </td><td> 13</td></tr>\n",
      "<tr><td>1110  </td><td>   e  </td><td> 14</td></tr>\n",
      "<tr><td>1111  </td><td>   f  </td><td> 15</td></tr>\n",
      "</table>\n",
      "\n",
      "Converting from binary to decimal:\n",
      "\n",
      "Starting on the right multiply each binary digit by $2^n$ where n is the position of the bit starting with bit 0 on the right.  for example:  $1 \\cdot 2^0 + 0 \\cdot 2^1 + 1 \\cdot 2^2 + 1 \\cdot 2^3 = 13$\n",
      "\n",
      "Converting from decimal to binary:\n",
      "\n",
      "Repeatedly divide by 2, the remainder becomes the next bit building from right to left. For example to convert 13 to binary:\n",
      "\n",
      "* 13 /2 = 6 remainder 1\n",
      "* 6 / 2 = 3 remainder 0\n",
      "* 3 / 2 = 1 remainder 1\n",
      "* 1 / 2 = 0 remainder 1\n",
      "\n",
      "Link to [ascii chart](http://www.ascii-code.com)\n"
     ]
    },
    {
     "cell_type": "markdown",
     "metadata": {},
     "source": [
      "### Computing a Checksum\n",
      "\n",
      "1.  Add the integer value for the first character to the second\n",
      "2.  If the number is > 255 then you must \"lop off\" the leftmost bit and add 1 to the result\n",
      "3.  Continue this process with the rest of the numbers/characters\n",
      "\n",
      "When all of the letters of the message have been added then take the one's complement\n",
      "(flip all the bits)\n"
     ]
    },
    {
     "cell_type": "markdown",
     "metadata": {},
     "source": [
      "### Checking a checksum\n",
      "\n",
      "1.  Repeat the same process (steps 1-3) as we did in Computing a Checksum  (but not the one's complement part)\n",
      "2.  Now add in the included checksum\n",
      "3.  If all the bits are 1, that is, the sum is 255 then there are no errors!\n"
     ]
    },
    {
     "cell_type": "markdown",
     "metadata": {},
     "source": [
      "### Exercise\n",
      "\n",
      "1.  Write a function to take a string and compute the sum of the letters in the string.\n",
      "2.  Write a function to take the one's complement of that sum.\n",
      "3.  combine 1 and 2 into a checksum function.\n",
      "4.  Write a function that checks the checksum.\n",
      "5.  TEST\n",
      "\n",
      "6.  Find a team of 3 people. Each of you will send a message (maybe 2 or 3 random words) to another member of your team using the third member as an intermediary as follows:\n",
      "  1.  make up a short message and compute a checksum for that message.\n",
      "  2.  Mail the message and the checksum to team member 2 -- Team member 2 may choose to change one or more letters of the message or the checksum and will send a copy of the (potentially altered) message to team member 3.\n",
      "  3.  Team member three will verify whether the message was altered or not.\n"
     ]
    },
    {
     "cell_type": "markdown",
     "metadata": {},
     "source": [
      "### Further Investigation\n",
      "\n",
      "* can checksums detect characters that are just out of order?\n",
      "* What happens if all the bits are one and you have a number larger than 255?  Can that even happen?\n"
     ]
    }
   ],
   "metadata": {}
  }
 ]
}